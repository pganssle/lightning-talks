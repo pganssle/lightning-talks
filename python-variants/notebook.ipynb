{
 "cells": [
  {
   "cell_type": "raw",
   "metadata": {
    "collapsed": true,
    "slideshow": {
     "slide_type": "slide"
    }
   },
   "source": [
    "<div style='font-size: 72px; text-align: center; height: 95%'>\n",
    "    <b>variants</b>\n",
    "    <b><div style='font-size: 64px; text-align: center'>A convention for cleaner API design</div></b>\n",
    "    <br/>\n",
    "    <br/>\n",
    "    <span style='font-size: 50px'>\n",
    "        Paul Ganssle<br/>\n",
    "        <img src=\"images/bloomberg-logo-black.svg\" style=\"border: none; box-shadow: none; height: 45px\"><br/>\n",
    "        <div style=\"text-align:center\"><img src=\"images/pganssle-logos.svg\" style=\"border: 0px; box-shadow: none; height: 40px; display:inline\"></div>\n",
    "        </span>\n",
    "</div>\n",
    "<br/><br/>\n",
    "<div style=\"text-align: center; font-size: 20px\">\n",
    "<i><a href=\"https://github.com/python-variants/variants\">variants on Github</a></i></br>\n",
    "<i><a href=\"https://github.com/pganssle/lightning-talks/tree/master/python-variants\">Github repo for this talk</a></i>\n",
    "</div>"
   ]
  },
  {
   "cell_type": "code",
   "execution_count": 1,
   "metadata": {
    "slideshow": {
     "slide_type": "skip"
    }
   },
   "outputs": [
    {
     "name": "stdout",
     "output_type": "stream",
     "text": [
      "The autoreload extension is already loaded. To reload it, use:\n",
      "  %reload_ext autoreload\n"
     ]
    }
   ],
   "source": [
    "%load_ext autoreload\n",
    "%autoreload 2"
   ]
  },
  {
   "cell_type": "code",
   "execution_count": 2,
   "metadata": {
    "slideshow": {
     "slide_type": "skip"
    }
   },
   "outputs": [],
   "source": [
    "import re\n",
    "import pathlib\n",
    "import pprint\n",
    "from io import StringIO\n",
    "pp = pprint.PrettyPrinter(indent=2, compact=False, width=80)\n",
    "\n",
    "from typing import Union, Tuple, IO"
   ]
  },
  {
   "cell_type": "markdown",
   "metadata": {
    "slideshow": {
     "slide_type": "slide"
    }
   },
   "source": [
    "# Motivation"
   ]
  },
  {
   "cell_type": "markdown",
   "metadata": {
    "slideshow": {
     "slide_type": "-"
    }
   },
   "source": [
    "How many times have you seen an API like this?"
   ]
  },
  {
   "cell_type": "code",
   "execution_count": 3,
   "metadata": {
    "slideshow": {
     "slide_type": "skip"
    }
   },
   "outputs": [],
   "source": [
    "class DataFrame:\n",
    "    pass"
   ]
  },
  {
   "cell_type": "code",
   "execution_count": 4,
   "metadata": {},
   "outputs": [],
   "source": [
    "def read_csv(filepath_or_buffer: Union[str, IO[str]], *args, **kwargs) -> DataFrame:\n",
    "    \"\"\"\n",
    "    If filepath_or_buffer is a str it is interpreted as a file path,\n",
    "    if it is a stream it is read directly as text\n",
    "    \"\"\"\n",
    "    pass"
   ]
  },
  {
   "cell_type": "markdown",
   "metadata": {
    "slideshow": {
     "slide_type": "fragment"
    }
   },
   "source": [
    "Or like this?"
   ]
  },
  {
   "cell_type": "code",
   "execution_count": 5,
   "metadata": {
    "slideshow": {
     "slide_type": "-"
    }
   },
   "outputs": [
    {
     "name": "stdout",
     "output_type": "stream",
     "text": [
      "Foo\n",
      "('Foo', 'extra')\n"
     ]
    }
   ],
   "source": [
    "def somefunc(return_extra: bool=False) -> Union[str, Tuple[str]]:\n",
    "    rv = 'Foo'\n",
    "    if return_extra:\n",
    "        return rv, 'extra'\n",
    "    \n",
    "    return rv\n",
    "\n",
    "print(somefunc())\n",
    "print(somefunc(return_extra=True))"
   ]
  },
  {
   "cell_type": "markdown",
   "metadata": {
    "slideshow": {
     "slide_type": "subslide"
    }
   },
   "source": [
    "# Alternate Constructors\n"
   ]
  },
  {
   "cell_type": "code",
   "execution_count": 6,
   "metadata": {
    "slideshow": {
     "slide_type": "-"
    }
   },
   "outputs": [],
   "source": [
    "from itertools import chain\n",
    "\n",
    "to_chain = [(1, 2), (3, 4), (5, 6, 7)]"
   ]
  },
  {
   "cell_type": "code",
   "execution_count": 7,
   "metadata": {
    "slideshow": {
     "slide_type": "-"
    }
   },
   "outputs": [
    {
     "name": "stdout",
     "output_type": "stream",
     "text": [
      "[1, 2, 3, 4, 5, 6, 7]\n"
     ]
    }
   ],
   "source": [
    "c = chain(*to_chain)\n",
    "print(list(c))"
   ]
  },
  {
   "cell_type": "code",
   "execution_count": 8,
   "metadata": {
    "slideshow": {
     "slide_type": "-"
    }
   },
   "outputs": [
    {
     "data": {
      "text/plain": [
       "[1, 2, 3, 4, 5, 6, 7]"
      ]
     },
     "execution_count": 8,
     "metadata": {},
     "output_type": "execute_result"
    }
   ],
   "source": [
    "list(chain.from_iterable(to_chain))"
   ]
  },
  {
   "cell_type": "markdown",
   "metadata": {
    "slideshow": {
     "slide_type": "-"
    }
   },
   "source": [
    "## API\n",
    "\n",
    "- `chain(*args: Iterable) -> chain` - Create a chain from many iterables.\n",
    "- `chain.from_iterable(iterable: Iterable[Iterable]) -> chain` - Create a chain from an iterable of iterables."
   ]
  },
  {
   "cell_type": "markdown",
   "metadata": {
    "slideshow": {
     "slide_type": "slide"
    }
   },
   "source": [
    "# `variants`"
   ]
  },
  {
   "cell_type": "markdown",
   "metadata": {
    "slideshow": {
     "slide_type": "-"
    }
   },
   "source": [
    "## Desired API\n",
    "- `print_text(txt: str)` - Print text passed to this function"
   ]
  },
  {
   "cell_type": "markdown",
   "metadata": {
    "slideshow": {
     "slide_type": "fragment"
    }
   },
   "source": [
    "- `print_text.from_stream(sobj: IO[str])` - Print text from a stream"
   ]
  },
  {
   "cell_type": "markdown",
   "metadata": {
    "slideshow": {
     "slide_type": "fragment"
    }
   },
   "source": [
    "- `print_text.from_filepath(*path_components: str)` - Open a file on disk and print its contents"
   ]
  },
  {
   "cell_type": "code",
   "execution_count": 9,
   "metadata": {
    "slideshow": {
     "slide_type": "fragment"
    }
   },
   "outputs": [],
   "source": [
    "import variants\n",
    "\n",
    "@variants.primary\n",
    "def print_text(txt):\n",
    "    \"\"\"Prints any text passed to this function\"\"\"\n",
    "    print(txt)"
   ]
  },
  {
   "cell_type": "code",
   "execution_count": 10,
   "metadata": {
    "slideshow": {
     "slide_type": "fragment"
    }
   },
   "outputs": [],
   "source": [
    "@print_text.variant('from_stream')\n",
    "def print_text(sobj):\n",
    "    \"\"\"Read text from a stream and print it\"\"\"\n",
    "    print_text(sobj.read())"
   ]
  },
  {
   "cell_type": "code",
   "execution_count": 11,
   "metadata": {
    "slideshow": {
     "slide_type": "fragment"
    }
   },
   "outputs": [],
   "source": [
    "@print_text.variant('from_filepath')\n",
    "def print_text(*path_components):\n",
    "    \"\"\"Open the file specified by `path_components` and print the contents\"\"\"\n",
    "    fpath = pathlib.Path(*path_components)\n",
    "    with open(fpath, 'r') as f:\n",
    "        print_text.from_stream(f)"
   ]
  },
  {
   "cell_type": "markdown",
   "metadata": {
    "slideshow": {
     "slide_type": "subslide"
    }
   },
   "source": [
    "## Example use"
   ]
  },
  {
   "cell_type": "code",
   "execution_count": 12,
   "metadata": {
    "slideshow": {
     "slide_type": "-"
    }
   },
   "outputs": [
    {
     "name": "stdout",
     "output_type": "stream",
     "text": [
      "Hello, world\n"
     ]
    }
   ],
   "source": [
    "print_text('Hello, world')"
   ]
  },
  {
   "cell_type": "code",
   "execution_count": 13,
   "metadata": {
    "slideshow": {
     "slide_type": "-"
    }
   },
   "outputs": [
    {
     "name": "stdout",
     "output_type": "stream",
     "text": [
      "Hello, world! This is from a stream!\n"
     ]
    }
   ],
   "source": [
    "print_text.from_stream(StringIO('Hello, world! This is from a stream!'))"
   ]
  },
  {
   "cell_type": "code",
   "execution_count": 14,
   "metadata": {
    "slideshow": {
     "slide_type": "-"
    }
   },
   "outputs": [
    {
     "name": "stdout",
     "output_type": "stream",
     "text": [
      "Hello, world! This is from a file!\n",
      "\n"
     ]
    }
   ],
   "source": [
    "print_text.from_filepath('extras/hello_world.txt')"
   ]
  },
  {
   "cell_type": "code",
   "execution_count": 15,
   "metadata": {
    "slideshow": {
     "slide_type": "skip"
    }
   },
   "outputs": [
    {
     "name": "stdout",
     "output_type": "stream",
     "text": [
      "Hello, world! This is from a file!\n",
      "\n"
     ]
    }
   ],
   "source": [
    "print_text.from_filepath('extras', 'hello_world.txt')"
   ]
  },
  {
   "cell_type": "markdown",
   "metadata": {
    "slideshow": {
     "slide_type": "slide"
    }
   },
   "source": [
    "# Why use variants?"
   ]
  },
  {
   "cell_type": "markdown",
   "metadata": {
    "slideshow": {
     "slide_type": "-"
    }
   },
   "source": [
    "- Syntactically marks relatedness, as compared to \"pseudo-namespacing\" using `_`:"
   ]
  },
  {
   "cell_type": "code",
   "execution_count": 16,
   "metadata": {},
   "outputs": [
    {
     "name": "stdout",
     "output_type": "stream",
     "text": [
      "Hello, world! This is from a file!\n",
      "\n"
     ]
    }
   ],
   "source": [
    "def print_text_from_filepath(fpath):\n",
    "    print_text.from_filepath(fpath)\n",
    "    \n",
    "print_text_from_filepath('extras/hello_world.txt')"
   ]
  },
  {
   "cell_type": "markdown",
   "metadata": {
    "slideshow": {
     "slide_type": "-"
    }
   },
   "source": [
    "- Variants are namespaced *under* the primary variant:\n",
    "    - Tab completion helps discovery of variant functions\n",
    "    - \"Top level\" API is kept as clean as possible"
   ]
  },
  {
   "cell_type": "markdown",
   "metadata": {
    "slideshow": {
     "slide_type": "subslide"
    }
   },
   "source": [
    "## Autodocument with sphinx"
   ]
  },
  {
   "cell_type": "markdown",
   "metadata": {},
   "source": [
    "Using the `sphinx_autodoc_variants` sphinx extension:\n",
    "\n",
    "```rst\n",
    ".. automodule:: text_print\n",
    "    :members:\n",
    "```"
   ]
  },
  {
   "cell_type": "markdown",
   "metadata": {},
   "source": [
    "![text_print module documentation](images/sphinx_docs_image.png)"
   ]
  },
  {
   "cell_type": "markdown",
   "metadata": {
    "slideshow": {
     "slide_type": "slide"
    }
   },
   "source": [
    "## Reasons to use `variants`"
   ]
  },
  {
   "cell_type": "markdown",
   "metadata": {},
   "source": [
    "### Explicit dispatch"
   ]
  },
  {
   "cell_type": "code",
   "execution_count": 17,
   "metadata": {
    "slideshow": {
     "slide_type": "skip"
    }
   },
   "outputs": [],
   "source": [
    "import requests"
   ]
  },
  {
   "cell_type": "code",
   "execution_count": 18,
   "metadata": {},
   "outputs": [],
   "source": [
    "@print_text.variant('from_url')\n",
    "def print_text(url):\n",
    "    r = requests.get(url)\n",
    "    print_text(r.text)"
   ]
  },
  {
   "cell_type": "code",
   "execution_count": 19,
   "metadata": {
    "slideshow": {
     "slide_type": "skip"
    }
   },
   "outputs": [],
   "source": [
    "@print_text.variant('from_url')\n",
    "def print_text(url):\n",
    "    try:\n",
    "        r = requests.get(url)\n",
    "    except Exception:\n",
    "        print_text(\"Hello, world! (from url)\")\n",
    "    print(r.text)"
   ]
  },
  {
   "cell_type": "code",
   "execution_count": 20,
   "metadata": {},
   "outputs": [
    {
     "name": "stdout",
     "output_type": "stream",
     "text": [
      "Hello, world!\n",
      "Hello, world! This is from a file!\n",
      "\n",
      "Hello, world! (from url)\n"
     ]
    }
   ],
   "source": [
    "print_text('Hello, world!')\n",
    "print_text.from_filepath('extras/hello_world.txt')\n",
    "print_text.from_url('https://ganssle.io/files/hello_world.txt')"
   ]
  },
  {
   "cell_type": "markdown",
   "metadata": {
    "slideshow": {
     "slide_type": "skip"
    }
   },
   "source": [
    "## Why not use singledispatch?"
   ]
  },
  {
   "cell_type": "code",
   "execution_count": 21,
   "metadata": {
    "slideshow": {
     "slide_type": "skip"
    }
   },
   "outputs": [],
   "source": [
    "from functools import singledispatch\n",
    "\n",
    "from pathlib import Path\n",
    "\n",
    "class Url:\n",
    "    def __init__(self, url):\n",
    "        self.url = url\n",
    "    \n",
    "    def __repr__(self):\n",
    "        return f\"{self.__class__.__name__}('{self.url}')\"\n",
    "    \n",
    "    def __str__(self):\n",
    "        return self.url"
   ]
  },
  {
   "cell_type": "code",
   "execution_count": 22,
   "metadata": {
    "slideshow": {
     "slide_type": "skip"
    }
   },
   "outputs": [],
   "source": [
    "@singledispatch\n",
    "def print_text_sd(txt):\n",
    "    print(txt)\n",
    "\n",
    "@print_text_sd.register(Url)\n",
    "def _(url):\n",
    "    print_text.from_url(url.url)\n",
    "\n",
    "@print_text_sd.register(Path)\n",
    "def _(path):\n",
    "    print_text.from_filepath(path)"
   ]
  },
  {
   "cell_type": "code",
   "execution_count": 23,
   "metadata": {
    "slideshow": {
     "slide_type": "skip"
    }
   },
   "outputs": [
    {
     "name": "stdout",
     "output_type": "stream",
     "text": [
      "Hello, world!\n",
      "Hello, world! This is from a file!\n",
      "\n",
      "Hello, world! (from url)\n"
     ]
    }
   ],
   "source": [
    "print_text_sd('Hello, world!')\n",
    "print_text_sd(Path('extras/hello_world.txt'))\n",
    "print_text_sd(Url('https://ganssle.io/files/hello_world.txt'))"
   ]
  },
  {
   "cell_type": "markdown",
   "metadata": {
    "slideshow": {
     "slide_type": "skip"
    }
   },
   "source": [
    "### Can combine with singledispatch"
   ]
  },
  {
   "cell_type": "code",
   "execution_count": 24,
   "metadata": {
    "slideshow": {
     "slide_type": "skip"
    }
   },
   "outputs": [],
   "source": [
    "from functools import singledispatch\n",
    "\n",
    "@variants.primary\n",
    "@singledispatch\n",
    "def add(x, y):\n",
    "    return x + y\n",
    "\n",
    "@add.variant('from_list')\n",
    "@add.register(list)\n",
    "def add(x, y):\n",
    "    return x + [y]"
   ]
  },
  {
   "cell_type": "code",
   "execution_count": 25,
   "metadata": {
    "slideshow": {
     "slide_type": "skip"
    }
   },
   "outputs": [
    {
     "name": "stdout",
     "output_type": "stream",
     "text": [
      "1 + 2 = 3\n",
      "[1] + 2 = [1, 2]\n"
     ]
    }
   ],
   "source": [
    "print('1 + 2 = %d' % add(1, 2))\n",
    "print('[1] + 2 = %s' % add([1], 2))"
   ]
  },
  {
   "cell_type": "code",
   "execution_count": 26,
   "metadata": {
    "slideshow": {
     "slide_type": "skip"
    }
   },
   "outputs": [
    {
     "name": "stdout",
     "output_type": "stream",
     "text": [
      "add.from_list([1], 2) = [1, 2]\n"
     ]
    }
   ],
   "source": [
    "print('add.from_list([1], 2) = %s' % add.from_list([1], 2))"
   ]
  },
  {
   "cell_type": "code",
   "execution_count": 27,
   "metadata": {
    "slideshow": {
     "slide_type": "skip"
    }
   },
   "outputs": [
    {
     "name": "stdout",
     "output_type": "stream",
     "text": [
      "add.from_list(1, 2): TypeError(\"unsupported operand type(s) for +: 'int' and 'list'\",)\n"
     ]
    }
   ],
   "source": [
    "try:\n",
    "    add.from_list(1, 3)\n",
    "except Exception as e:\n",
    "    print('add.from_list(1, 2): %s' % repr(e))"
   ]
  },
  {
   "cell_type": "markdown",
   "metadata": {
    "slideshow": {
     "slide_type": "slide"
    }
   },
   "source": [
    "## Reasons to use `variants`"
   ]
  },
  {
   "cell_type": "markdown",
   "metadata": {},
   "source": [
    "### Variation in return type"
   ]
  },
  {
   "cell_type": "code",
   "execution_count": 28,
   "metadata": {
    "slideshow": {
     "slide_type": "skip"
    }
   },
   "outputs": [],
   "source": [
    "from typing import Iterator, List"
   ]
  },
  {
   "cell_type": "code",
   "execution_count": 29,
   "metadata": {},
   "outputs": [],
   "source": [
    "from datetime import date, timedelta\n",
    "\n",
    "@variants.primary\n",
    "def date_range(dt_start: date, dt_end: date) -> Iterator[date]:\n",
    "    dt = dt_start\n",
    "    step = timedelta(days=1)\n",
    "    while dt < dt_end:\n",
    "        yield dt\n",
    "        dt += step\n",
    "    "
   ]
  },
  {
   "cell_type": "code",
   "execution_count": 30,
   "metadata": {
    "slideshow": {
     "slide_type": "-"
    }
   },
   "outputs": [
    {
     "data": {
      "text/plain": [
       "<generator object date_range at 0x7f1b8be1bba0>"
      ]
     },
     "execution_count": 30,
     "metadata": {},
     "output_type": "execute_result"
    }
   ],
   "source": [
    "date_range(date(2018, 1, 14), date(2018, 1, 18))\n"
   ]
  },
  {
   "cell_type": "code",
   "execution_count": 31,
   "metadata": {
    "slideshow": {
     "slide_type": "fragment"
    }
   },
   "outputs": [],
   "source": [
    "@date_range.variant('eager')\n",
    "def date_range(dt_start: date, dt_end: date) -> List[date]:\n",
    "    return list(date_range(dt_start, dt_end))"
   ]
  },
  {
   "cell_type": "code",
   "execution_count": 32,
   "metadata": {
    "slideshow": {
     "slide_type": "-"
    }
   },
   "outputs": [
    {
     "data": {
      "text/plain": [
       "[datetime.date(2018, 1, 14),\n",
       " datetime.date(2018, 1, 15),\n",
       " datetime.date(2018, 1, 16),\n",
       " datetime.date(2018, 1, 17)]"
      ]
     },
     "execution_count": 32,
     "metadata": {},
     "output_type": "execute_result"
    }
   ],
   "source": [
    "date_range.eager(date(2018, 1, 14), date(2018, 1, 18))"
   ]
  },
  {
   "cell_type": "markdown",
   "metadata": {
    "slideshow": {
     "slide_type": "slide"
    }
   },
   "source": [
    "## Reasons to use `variants`"
   ]
  },
  {
   "cell_type": "markdown",
   "metadata": {
    "slideshow": {
     "slide_type": "-"
    }
   },
   "source": [
    "## Variation in async behavior"
   ]
  },
  {
   "cell_type": "code",
   "execution_count": 33,
   "metadata": {
    "slideshow": {
     "slide_type": "-"
    }
   },
   "outputs": [],
   "source": [
    "import asyncio\n",
    "import time\n",
    "\n",
    "@variants.primary\n",
    "async def myfunc(n):\n",
    "    for i in range(n):\n",
    "        yield i\n",
    "        await asyncio.sleep(0.5)\n",
    "        \n",
    "@myfunc.variant('sync')\n",
    "def myfunc(n):\n",
    "    for i in range(n):\n",
    "        yield i\n",
    "        time.sleep(0.5)"
   ]
  },
  {
   "cell_type": "code",
   "execution_count": 34,
   "metadata": {
    "slideshow": {
     "slide_type": "fragment"
    }
   },
   "outputs": [
    {
     "data": {
      "text/plain": [
       "<async_generator object myfunc at 0x7f1b8be25868>"
      ]
     },
     "execution_count": 34,
     "metadata": {},
     "output_type": "execute_result"
    }
   ],
   "source": [
    "myfunc(4)"
   ]
  },
  {
   "cell_type": "code",
   "execution_count": 35,
   "metadata": {},
   "outputs": [
    {
     "data": {
      "text/plain": [
       "<generator object myfunc at 0x7f1b8be5a468>"
      ]
     },
     "execution_count": 35,
     "metadata": {},
     "output_type": "execute_result"
    }
   ],
   "source": [
    "myfunc.sync(4)"
   ]
  },
  {
   "cell_type": "markdown",
   "metadata": {
    "slideshow": {
     "slide_type": "subslide"
    }
   },
   "source": [
    "## Variation in caching behavior"
   ]
  },
  {
   "cell_type": "code",
   "execution_count": 36,
   "metadata": {},
   "outputs": [],
   "source": [
    "from functools import lru_cache\n",
    "\n",
    "@variants.primary\n",
    "@lru_cache()\n",
    "def get_config():\n",
    "    return get_config.nocache()\n",
    "\n",
    "@get_config.variant('nocache')\n",
    "def get_config():\n",
    "    print(\"Retrieving configuration!\")\n",
    "    return {\n",
    "        'a1': 'value',\n",
    "        'b': 12348\n",
    "    }\n"
   ]
  },
  {
   "cell_type": "code",
   "execution_count": 37,
   "metadata": {
    "slideshow": {
     "slide_type": "fragment"
    }
   },
   "outputs": [
    {
     "name": "stdout",
     "output_type": "stream",
     "text": [
      "Retrieving configuration!\n"
     ]
    }
   ],
   "source": [
    "a = get_config()"
   ]
  },
  {
   "cell_type": "code",
   "execution_count": 38,
   "metadata": {},
   "outputs": [],
   "source": [
    "b = get_config()"
   ]
  },
  {
   "cell_type": "code",
   "execution_count": 39,
   "metadata": {},
   "outputs": [
    {
     "name": "stdout",
     "output_type": "stream",
     "text": [
      "Retrieving configuration!\n"
     ]
    }
   ],
   "source": [
    "c = get_config.nocache()"
   ]
  },
  {
   "cell_type": "markdown",
   "metadata": {
    "slideshow": {
     "slide_type": "slide"
    }
   },
   "source": [
    "# Project Links"
   ]
  },
  {
   "cell_type": "markdown",
   "metadata": {
    "slideshow": {
     "slide_type": "-"
    }
   },
   "source": [
    "- Find the project:\n",
    "  - PyPI: `variants`: https://pypi.org/project/variants/\n",
    "  - Github: https://github.com/python-variants/variants"
   ]
  },
  {
   "cell_type": "markdown",
   "metadata": {},
   "source": [
    "## To Do:\n",
    "\n",
    "- [Preserve introspection](https://github.com/python-variants/variants/issues/7)\n",
    "- [Add compiled backend](https://github.com/python-variants/variants/issues/26)"
   ]
  },
  {
   "cell_type": "raw",
   "metadata": {},
   "source": [
    "<div style=\"text-align:center\"><img src=\"images/pganssle-logos.svg\" style=\"border: 0px; box-shadow: none; height: 40px; display:inline\"></div>"
   ]
  }
 ],
 "metadata": {
  "celltoolbar": "Slideshow",
  "kernelspec": {
   "display_name": "Python 3",
   "language": "python",
   "name": "python3"
  },
  "language_info": {
   "codemirror_mode": {
    "name": "ipython",
    "version": 3
   },
   "file_extension": ".py",
   "mimetype": "text/x-python",
   "name": "python",
   "nbconvert_exporter": "python",
   "pygments_lexer": "ipython3",
   "version": "3.6.5"
  },
  "nbpresent": {
   "slides": {
    "08cbf3b7-09bf-4e2d-a7bb-669bef598000": {
     "id": "08cbf3b7-09bf-4e2d-a7bb-669bef598000",
     "prev": "e66ce0b2-0da8-4e70-b485-bc633ae610b1",
     "regions": {
      "4886cbf0-e3dd-4e82-a981-fa6d3b8e8c7e": {
       "attrs": {
        "height": 0.4,
        "width": 0.8,
        "x": 0.1,
        "y": 0.5
       },
       "content": {
        "cell": "04d99eed-ab07-47dc-9744-bcb0f0c1cc79",
        "part": "whole"
       },
       "id": "4886cbf0-e3dd-4e82-a981-fa6d3b8e8c7e"
      },
      "4fd83263-2c77-4142-b443-d67c15873a27": {
       "attrs": {
        "height": 0.4,
        "width": 0.8,
        "x": 0.1,
        "y": 0.5
       },
       "content": {
        "cell": "10a7d89b-3ab4-4174-9469-9130a6633d13",
        "part": "whole"
       },
       "id": "4fd83263-2c77-4142-b443-d67c15873a27"
      },
      "f046a812-85a3-4f5d-a06e-0a2f7113dfb6": {
       "attrs": {
        "height": 0.4,
        "width": 0.8,
        "x": 0.1,
        "y": 0.5
       },
       "content": {
        "cell": "0960c080-94ec-491c-9054-2ce4800da44e",
        "part": "whole"
       },
       "id": "f046a812-85a3-4f5d-a06e-0a2f7113dfb6"
      },
      "f8172fed-7a45-49b9-a4c7-734c79195fd8": {
       "attrs": {
        "height": 0.8,
        "width": 0.8,
        "x": 0.1,
        "y": 0.1
       },
       "content": {
        "cell": "2c7a7f15-280a-4ca1-8752-5852f2883b0e",
        "part": "whole"
       },
       "id": "f8172fed-7a45-49b9-a4c7-734c79195fd8"
      }
     }
    },
    "2f08fc76-506a-436a-a001-57cd459bc10e": {
     "id": "2f08fc76-506a-436a-a001-57cd459bc10e",
     "prev": "72eab6bc-5c13-48f0-bbdd-55c413e7356c",
     "regions": {
      "32e25f03-3d86-49ad-b4d1-d85dfb16658e": {
       "attrs": {
        "height": 0.8,
        "width": 0.8,
        "x": 0.1,
        "y": 0.1
       },
       "content": {
        "cell": "3f0d0a60-76bb-4da1-bd78-422dd3f03aa9",
        "part": "whole"
       },
       "id": "32e25f03-3d86-49ad-b4d1-d85dfb16658e"
      },
      "5839e18b-9098-47b8-bd8a-98935c00e1e5": {
       "attrs": {
        "height": 0.4,
        "width": 0.8,
        "x": 0.1,
        "y": 0.5
       },
       "content": {
        "cell": "3a9a3ce1-90c6-40e2-ad2a-934079abea25",
        "part": "whole"
       },
       "id": "5839e18b-9098-47b8-bd8a-98935c00e1e5"
      }
     }
    },
    "2f0cb708-e8f5-4bc4-8e52-6d0510cc2f7e": {
     "id": "2f0cb708-e8f5-4bc4-8e52-6d0510cc2f7e",
     "prev": "e2348bdb-3ba2-45f4-ad55-415ed9ff5540",
     "regions": {
      "419de7ca-967b-43cc-a106-ec2945ef5786": {
       "attrs": {
        "height": 0.4,
        "width": 0.8,
        "x": 0.1,
        "y": 0.5
       },
       "content": {
        "cell": "2f1f753d-37c5-497a-ae5c-0c533ed54e91",
        "part": "whole"
       },
       "id": "419de7ca-967b-43cc-a106-ec2945ef5786"
      },
      "508182a7-bb0f-45d4-bd0e-f3557f567d95": {
       "attrs": {
        "height": 0.8,
        "width": 0.8,
        "x": 0.1,
        "y": 0.1
       },
       "content": {
        "cell": "3f4cd2d0-3b8e-40b3-ba6b-0853c8a8b46e",
        "part": "whole"
       },
       "id": "508182a7-bb0f-45d4-bd0e-f3557f567d95"
      },
      "f55c88ee-fc85-4c09-804f-d48a7b7506e0": {
       "attrs": {
        "height": 0.4,
        "width": 0.8,
        "x": 0.1,
        "y": 0.5
       },
       "content": {
        "cell": "b26d27b2-1e68-4ba5-8d98-a8141448d9e5",
        "part": "whole"
       },
       "id": "f55c88ee-fc85-4c09-804f-d48a7b7506e0"
      }
     }
    },
    "350a7bd9-42fc-4394-b958-5afe2d830238": {
     "id": "350a7bd9-42fc-4394-b958-5afe2d830238",
     "prev": "4be02312-304d-4f97-928e-5ff23e461620",
     "regions": {
      "3f1464dd-8225-4a40-a95b-2a462269b3ec": {
       "attrs": {
        "height": 0.8,
        "width": 0.8,
        "x": 0.1,
        "y": 0.1
       },
       "content": {
        "cell": "a611d48a-6bcb-4274-bae3-6d50512fdf09",
        "part": "whole"
       },
       "id": "3f1464dd-8225-4a40-a95b-2a462269b3ec"
      },
      "5f43454d-d4c1-4f03-9c62-e719e2352322": {
       "attrs": {
        "height": 0.4,
        "width": 0.8,
        "x": 0.1,
        "y": 0.5
       },
       "content": {
        "cell": "34cc706b-ff2f-45b8-ba7b-59b75135c02e",
        "part": "whole"
       },
       "id": "5f43454d-d4c1-4f03-9c62-e719e2352322"
      },
      "603befb3-2674-436e-b07a-27aea83ee9b7": {
       "attrs": {
        "height": 0.4,
        "width": 0.8,
        "x": 0.1,
        "y": 0.5
       },
       "content": {
        "cell": "dc9b5653-368a-44d0-b35d-748971617072",
        "part": "whole"
       },
       "id": "603befb3-2674-436e-b07a-27aea83ee9b7"
      },
      "67cf9ace-457c-4b98-b291-9718aaa54a9f": {
       "attrs": {
        "height": 0.4,
        "width": 0.8,
        "x": 0.1,
        "y": 0.5
       },
       "content": {
        "cell": "c851bd48-df5a-4be0-b178-67a8404cbc62",
        "part": "whole"
       },
       "id": "67cf9ace-457c-4b98-b291-9718aaa54a9f"
      },
      "d9ff66ec-d319-4e2f-9073-99aea3073caf": {
       "attrs": {
        "height": 0.4,
        "width": 0.8,
        "x": 0.1,
        "y": 0.5
       },
       "content": {
        "cell": "60323647-c87d-41cc-b73c-36e97b2907bd",
        "part": "whole"
       },
       "id": "d9ff66ec-d319-4e2f-9073-99aea3073caf"
      }
     }
    },
    "3c973d6a-e9bc-4213-abb0-69a8d748a364": {
     "id": "3c973d6a-e9bc-4213-abb0-69a8d748a364",
     "prev": "08cbf3b7-09bf-4e2d-a7bb-669bef598000",
     "regions": {
      "34acf9a1-ec8f-4d55-a554-b05fce65f9e7": {
       "attrs": {
        "height": 0.4,
        "width": 0.8,
        "x": 0.1,
        "y": 0.5
       },
       "content": {
        "cell": "da2c8567-4cc4-4e60-be05-9f015217bde4",
        "part": "whole"
       },
       "id": "34acf9a1-ec8f-4d55-a554-b05fce65f9e7"
      },
      "4ac89145-2170-44da-a9c8-38edba56c308": {
       "attrs": {
        "height": 0.4,
        "width": 0.8,
        "x": 0.1,
        "y": 0.5
       },
       "content": {
        "cell": "5f071bae-78eb-43a4-ae01-5d3e48c59ba9",
        "part": "whole"
       },
       "id": "4ac89145-2170-44da-a9c8-38edba56c308"
      },
      "b78806ae-ae82-4852-8297-7f8f10146dce": {
       "attrs": {
        "height": 0.4,
        "width": 0.8,
        "x": 0.1,
        "y": 0.5
       },
       "content": {
        "cell": "f88a5291-5045-4a53-bc2d-cad368570417",
        "part": "whole"
       },
       "id": "b78806ae-ae82-4852-8297-7f8f10146dce"
      },
      "c24e3f04-cf7c-437f-ad6a-cca33993bb4d": {
       "attrs": {
        "height": 0.8,
        "width": 0.8,
        "x": 0.1,
        "y": 0.1
       },
       "content": {
        "cell": "110c0454-5a9c-4754-a379-2f8bbf5387f0",
        "part": "whole"
       },
       "id": "c24e3f04-cf7c-437f-ad6a-cca33993bb4d"
      },
      "f2bf53a8-af82-43b6-9768-47ad9df1abc8": {
       "attrs": {
        "height": 0.4,
        "width": 0.8,
        "x": 0.1,
        "y": 0.5
       },
       "content": {
        "cell": "a09f3100-3c5c-4e41-ab49-f204406d9727",
        "part": "whole"
       },
       "id": "f2bf53a8-af82-43b6-9768-47ad9df1abc8"
      }
     }
    },
    "3f2767d4-1685-48e2-9396-efb6cbbc61dc": {
     "id": "3f2767d4-1685-48e2-9396-efb6cbbc61dc",
     "prev": "fa8362df-d0d0-4967-b2ce-0bc24b041a7b",
     "regions": {
      "394e691c-6357-4a45-9584-37844ec03621": {
       "attrs": {
        "height": 0.4,
        "width": 0.8,
        "x": 0.1,
        "y": 0.5
       },
       "content": {
        "cell": "4d00ecb6-3fef-4f2d-be90-3eb3e072be9a",
        "part": "whole"
       },
       "id": "394e691c-6357-4a45-9584-37844ec03621"
      },
      "3f08aa5d-8ea8-4f3f-bab4-68fbe3e8f4e0": {
       "attrs": {
        "height": 0.4,
        "width": 0.8,
        "x": 0.1,
        "y": 0.5
       },
       "content": {
        "cell": "cda597e6-aed9-478f-9bec-db309fc7cee3",
        "part": "whole"
       },
       "id": "3f08aa5d-8ea8-4f3f-bab4-68fbe3e8f4e0"
      },
      "42c0b288-525b-4aa3-9451-e999a2af27c4": {
       "attrs": {
        "height": 0.4,
        "width": 0.8,
        "x": 0.1,
        "y": 0.5
       },
       "content": {
        "cell": "0c8084cb-dc2d-445f-b87a-1ee52c5826cb",
        "part": "whole"
       },
       "id": "42c0b288-525b-4aa3-9451-e999a2af27c4"
      },
      "90c7ddab-b5a4-45a0-a18d-03b871cfdb0f": {
       "attrs": {
        "height": 0.8,
        "width": 0.8,
        "x": 0.1,
        "y": 0.1
       },
       "content": {
        "cell": "b95f0af4-9089-4a02-8173-fc2051d161f6",
        "part": "whole"
       },
       "id": "90c7ddab-b5a4-45a0-a18d-03b871cfdb0f"
      }
     }
    },
    "4be02312-304d-4f97-928e-5ff23e461620": {
     "id": "4be02312-304d-4f97-928e-5ff23e461620",
     "prev": "78715b1e-7d4a-4385-90ee-d04faae5b7ce",
     "regions": {
      "395c9d4f-7c41-42a5-899b-b496a52b6656": {
       "attrs": {
        "height": 0.4,
        "width": 0.8,
        "x": 0.1,
        "y": 0.5
       },
       "content": {
        "cell": "38713a58-b89e-44f7-9317-82c232b11bb6",
        "part": "whole"
       },
       "id": "395c9d4f-7c41-42a5-899b-b496a52b6656"
      },
      "d5aa9431-911b-402e-bb85-9f3b4f9cde52": {
       "attrs": {
        "height": 0.8,
        "width": 0.8,
        "x": 0.1,
        "y": 0.1
       },
       "content": {
        "cell": "26b2096e-cf66-4f15-85a7-123f6faebe71",
        "part": "whole"
       },
       "id": "d5aa9431-911b-402e-bb85-9f3b4f9cde52"
      }
     }
    },
    "66da7c99-5473-4fde-abc5-14ff1f24944c": {
     "id": "66da7c99-5473-4fde-abc5-14ff1f24944c",
     "prev": null,
     "regions": {
      "cddc6c40-2f5a-4772-a542-863ce74bcee0": {
       "attrs": {
        "height": 0.8,
        "width": 0.8,
        "x": 0.1,
        "y": 0.1
       },
       "content": {
        "cell": "8043c60e-9264-43a5-93d5-3f81e76a08e9",
        "part": "whole"
       },
       "id": "cddc6c40-2f5a-4772-a542-863ce74bcee0"
      }
     },
     "theme": null
    },
    "72eab6bc-5c13-48f0-bbdd-55c413e7356c": {
     "id": "72eab6bc-5c13-48f0-bbdd-55c413e7356c",
     "prev": "2f0cb708-e8f5-4bc4-8e52-6d0510cc2f7e",
     "regions": {
      "1c21434a-1960-4afc-a8c7-96827c8101c1": {
       "attrs": {
        "height": 0.4,
        "width": 0.8,
        "x": 0.1,
        "y": 0.5
       },
       "content": {
        "cell": "3ef7ac4e-85c1-42dc-a24c-c8bd919b02c3",
        "part": "whole"
       },
       "id": "1c21434a-1960-4afc-a8c7-96827c8101c1"
      },
      "227aa851-2359-4f67-8e38-56f78964a3a2": {
       "attrs": {
        "height": 0.8,
        "width": 0.8,
        "x": 0.1,
        "y": 0.1
       },
       "content": {
        "cell": "917e35fa-a529-4d20-91b8-683a9d7958ad",
        "part": "whole"
       },
       "id": "227aa851-2359-4f67-8e38-56f78964a3a2"
      },
      "784b3013-ba7a-45be-80fd-fafff32e654c": {
       "attrs": {
        "height": 0.4,
        "width": 0.8,
        "x": 0.1,
        "y": 0.5
       },
       "content": {
        "cell": "33fc71bd-0869-4ee4-ad97-77d17dfe9060",
        "part": "whole"
       },
       "id": "784b3013-ba7a-45be-80fd-fafff32e654c"
      }
     }
    },
    "77c56d86-ac62-441a-b637-c28c416c0f3b": {
     "id": "77c56d86-ac62-441a-b637-c28c416c0f3b",
     "prev": "350a7bd9-42fc-4394-b958-5afe2d830238",
     "regions": {
      "308dd9d6-9ef2-44a9-9be3-bdba35e97b3d": {
       "attrs": {
        "height": 0.4,
        "width": 0.8,
        "x": 0.1,
        "y": 0.5
       },
       "content": {
        "cell": "59e970ae-5206-4784-a215-497dd643e915",
        "part": "whole"
       },
       "id": "308dd9d6-9ef2-44a9-9be3-bdba35e97b3d"
      },
      "71265642-930c-411b-be49-2e96ef5f99bc": {
       "attrs": {
        "height": 0.4,
        "width": 0.8,
        "x": 0.1,
        "y": 0.5
       },
       "content": {
        "cell": "10eba1b2-e23e-4a6d-b65b-501be28a364b",
        "part": "whole"
       },
       "id": "71265642-930c-411b-be49-2e96ef5f99bc"
      },
      "b619ae6f-5599-4197-a836-840fcb342956": {
       "attrs": {
        "height": 0.8,
        "width": 0.8,
        "x": 0.1,
        "y": 0.1
       },
       "content": {
        "cell": "29a0fbc7-b7f2-4421-982c-e7a07f1bde16",
        "part": "whole"
       },
       "id": "b619ae6f-5599-4197-a836-840fcb342956"
      }
     }
    },
    "784b9f54-8d1f-44b3-a3ef-478627ee3d66": {
     "id": "784b9f54-8d1f-44b3-a3ef-478627ee3d66",
     "prev": "dadb12e3-ae58-4c42-b0ea-06373c4a431c",
     "regions": {
      "39a7a53d-fbd5-4d48-bb6b-b61cc2d3fd5b": {
       "attrs": {
        "height": 0.4,
        "width": 0.8,
        "x": 0.1,
        "y": 0.5
       },
       "content": {
        "cell": "3708d043-1fa9-40dc-b5c2-d87028af4282",
        "part": "whole"
       },
       "id": "39a7a53d-fbd5-4d48-bb6b-b61cc2d3fd5b"
      },
      "4acf35f1-15bf-466a-95f0-5b23c636d8e0": {
       "attrs": {
        "height": 0.8,
        "width": 0.8,
        "x": 0.1,
        "y": 0.1
       },
       "content": {
        "cell": "e48e5499-6521-4dda-9d21-d15ee6642fc0",
        "part": "whole"
       },
       "id": "4acf35f1-15bf-466a-95f0-5b23c636d8e0"
      },
      "95a037ef-83fc-4a0b-8d43-6025c0b2de7c": {
       "attrs": {
        "height": 0.4,
        "width": 0.8,
        "x": 0.1,
        "y": 0.5
       },
       "content": {
        "cell": "3cebb4b0-5d5f-42b0-97eb-21415802a73c",
        "part": "whole"
       },
       "id": "95a037ef-83fc-4a0b-8d43-6025c0b2de7c"
      },
      "e85a7ad4-36ca-49f6-87ff-20a51cd777cb": {
       "attrs": {
        "height": 0.4,
        "width": 0.8,
        "x": 0.1,
        "y": 0.5
       },
       "content": {
        "cell": "da5dfe07-74dc-4d06-9294-8c48143fac79",
        "part": "whole"
       },
       "id": "e85a7ad4-36ca-49f6-87ff-20a51cd777cb"
      }
     }
    },
    "78715b1e-7d4a-4385-90ee-d04faae5b7ce": {
     "id": "78715b1e-7d4a-4385-90ee-d04faae5b7ce",
     "prev": "784b9f54-8d1f-44b3-a3ef-478627ee3d66",
     "regions": {
      "121cac40-dd0d-42e0-8354-ff86e9be2c4a": {
       "attrs": {
        "height": 0.4,
        "width": 0.8,
        "x": 0.1,
        "y": 0.5
       },
       "content": {
        "cell": "05aa375c-84bd-4032-989d-c3dbf618ff9c",
        "part": "whole"
       },
       "id": "121cac40-dd0d-42e0-8354-ff86e9be2c4a"
      },
      "353d960f-eccd-4329-9fe4-1e05fc87d7df": {
       "attrs": {
        "height": 0.8,
        "width": 0.8,
        "x": 0.1,
        "y": 0.1
       },
       "content": {
        "cell": "c6900de4-08a9-46b1-acc4-8fe534c613f9",
        "part": "whole"
       },
       "id": "353d960f-eccd-4329-9fe4-1e05fc87d7df"
      },
      "97d037ea-837b-48ac-805d-d392246ad489": {
       "attrs": {
        "height": 0.4,
        "width": 0.8,
        "x": 0.1,
        "y": 0.5
       },
       "content": {
        "cell": "64d92b3d-127c-4ced-964c-f86a93db8487",
        "part": "whole"
       },
       "id": "97d037ea-837b-48ac-805d-d392246ad489"
      },
      "de401a81-2c80-4452-869c-763e261781da": {
       "attrs": {
        "height": 0.4,
        "width": 0.8,
        "x": 0.1,
        "y": 0.5
       },
       "content": {
        "cell": "dc279304-7d4d-4030-9fb4-ba45a5937d35",
        "part": "whole"
       },
       "id": "de401a81-2c80-4452-869c-763e261781da"
      }
     }
    },
    "809c5d54-cb2b-4ee6-b489-5be655e7f76a": {
     "id": "809c5d54-cb2b-4ee6-b489-5be655e7f76a",
     "prev": "ce512c0b-94ce-43fa-bbc6-3f226d4bbf5a",
     "regions": {
      "2ecffdb9-e84b-4c01-9dff-b3749a4b4af7": {
       "attrs": {
        "height": 0.4,
        "width": 0.8,
        "x": 0.1,
        "y": 0.5
       },
       "content": {
        "cell": "6e6c3715-7bbe-4842-a007-8b6a410efe24",
        "part": "whole"
       },
       "id": "2ecffdb9-e84b-4c01-9dff-b3749a4b4af7"
      },
      "6a241d03-ae96-43ef-bb10-4e3786697390": {
       "attrs": {
        "height": 0.4,
        "width": 0.8,
        "x": 0.1,
        "y": 0.5
       },
       "content": {
        "cell": "9cdb3b68-bb7d-4ca5-96c1-cbfd571dcfd0",
        "part": "whole"
       },
       "id": "6a241d03-ae96-43ef-bb10-4e3786697390"
      },
      "ce126b3a-e547-44a5-96c4-20595ead57b1": {
       "attrs": {
        "height": 0.4,
        "width": 0.8,
        "x": 0.1,
        "y": 0.5
       },
       "content": {
        "cell": "f74d10b8-0fff-463a-afe4-1e944732061c",
        "part": "whole"
       },
       "id": "ce126b3a-e547-44a5-96c4-20595ead57b1"
      },
      "cf10ddc0-4b09-4485-be24-b89051adfa36": {
       "attrs": {
        "height": 0.4,
        "width": 0.8,
        "x": 0.1,
        "y": 0.5
       },
       "content": {
        "cell": "41a186e7-808d-499a-a6df-7163d743be8b",
        "part": "whole"
       },
       "id": "cf10ddc0-4b09-4485-be24-b89051adfa36"
      },
      "d7569640-ce29-48be-aecb-d8c8a3c09907": {
       "attrs": {
        "height": 0.8,
        "width": 0.8,
        "x": 0.1,
        "y": 0.1
       },
       "content": {
        "cell": "dc9f19bc-dcc4-443c-b27e-e8c074f0223b",
        "part": "whole"
       },
       "id": "d7569640-ce29-48be-aecb-d8c8a3c09907"
      }
     }
    },
    "b27537c7-1de5-4549-8ab3-8616f123d906": {
     "id": "b27537c7-1de5-4549-8ab3-8616f123d906",
     "prev": "3c973d6a-e9bc-4213-abb0-69a8d748a364",
     "regions": {
      "defdfd03-c438-4b11-9bc7-d70581ff70ec": {
       "attrs": {
        "height": 0.8,
        "width": 0.8,
        "x": 0.1,
        "y": 0.1
       },
       "content": {
        "cell": "002aa7af-e7f3-4a01-a554-99e1227d79f3",
        "part": "whole"
       },
       "id": "defdfd03-c438-4b11-9bc7-d70581ff70ec"
      }
     }
    },
    "b407c083-3f01-4305-953e-7ba26fd64b5d": {
     "id": "b407c083-3f01-4305-953e-7ba26fd64b5d",
     "prev": "b27537c7-1de5-4549-8ab3-8616f123d906",
     "regions": {
      "71158419-75d5-4a45-82cb-b3a26c161fe3": {
       "attrs": {
        "height": 0.8,
        "width": 0.8,
        "x": 0.1,
        "y": 0.1
       },
       "content": {
        "cell": "f1dc73f9-8745-40ed-b00d-07a740b457f5",
        "part": "whole"
       },
       "id": "71158419-75d5-4a45-82cb-b3a26c161fe3"
      },
      "f22190a5-b3d3-4ba1-bc51-4098d3285f85": {
       "attrs": {
        "height": 0.4,
        "width": 0.8,
        "x": 0.1,
        "y": 0.5
       },
       "content": {
        "cell": "e29656f8-7417-4f5f-972a-02d4568419c5",
        "part": "whole"
       },
       "id": "f22190a5-b3d3-4ba1-bc51-4098d3285f85"
      }
     }
    },
    "bed18a91-f54c-4106-9447-9dc97d33ace4": {
     "id": "bed18a91-f54c-4106-9447-9dc97d33ace4",
     "prev": "fe3da8de-836b-4889-a4ab-629b26217b67",
     "regions": {
      "d6b7dcb3-bef5-44e8-b74b-c142df5ebba2": {
       "attrs": {
        "height": 0.8,
        "width": 0.8,
        "x": 0.1,
        "y": 0.1
       },
       "content": {
        "cell": "ae4b457d-959b-41ca-8571-92c70a2dc5a6",
        "part": "whole"
       },
       "id": "d6b7dcb3-bef5-44e8-b74b-c142df5ebba2"
      }
     }
    },
    "c4d2da00-bd89-4407-8579-aa26076c58f0": {
     "id": "c4d2da00-bd89-4407-8579-aa26076c58f0",
     "prev": "ef8678ac-0540-4f50-a0b0-d0896fb4b534",
     "regions": {
      "4fb8e26b-d6f9-4bb1-8d3f-e4bf29be0564": {
       "attrs": {
        "height": 0.8,
        "width": 0.8,
        "x": 0.1,
        "y": 0.1
       },
       "content": {
        "cell": "3a4bb641-60ad-41aa-ba0b-168114f66123",
        "part": "whole"
       },
       "id": "4fb8e26b-d6f9-4bb1-8d3f-e4bf29be0564"
      }
     }
    },
    "ce512c0b-94ce-43fa-bbc6-3f226d4bbf5a": {
     "id": "ce512c0b-94ce-43fa-bbc6-3f226d4bbf5a",
     "prev": "dda4eda5-514d-4280-a559-bd74c8c104c3",
     "regions": {
      "1ca181e6-13b4-4422-ad93-a9fc9ac8000f": {
       "attrs": {
        "height": 0.4,
        "width": 0.8,
        "x": 0.1,
        "y": 0.5
       },
       "content": {
        "cell": "a9d6971f-f5ae-4b1b-b6e3-e55c8888df85",
        "part": "whole"
       },
       "id": "1ca181e6-13b4-4422-ad93-a9fc9ac8000f"
      },
      "5e0e1839-9110-4d4d-bdd7-dae58e7ebcba": {
       "attrs": {
        "height": 0.8,
        "width": 0.8,
        "x": 0.1,
        "y": 0.1
       },
       "content": {
        "cell": "6387a7f2-b75f-46c7-9e97-a84cd6d7f572",
        "part": "whole"
       },
       "id": "5e0e1839-9110-4d4d-bdd7-dae58e7ebcba"
      }
     }
    },
    "dadb12e3-ae58-4c42-b0ea-06373c4a431c": {
     "id": "dadb12e3-ae58-4c42-b0ea-06373c4a431c",
     "prev": "2f08fc76-506a-436a-a001-57cd459bc10e",
     "regions": {
      "043ab3da-aef9-416f-b902-5f5fbfe320ba": {
       "attrs": {
        "height": 0.4,
        "width": 0.8,
        "x": 0.1,
        "y": 0.5
       },
       "content": {
        "cell": "f7b34bd5-c053-4979-8158-2f50748f7675",
        "part": "whole"
       },
       "id": "043ab3da-aef9-416f-b902-5f5fbfe320ba"
      },
      "558f6345-14cb-4521-9730-eef3c0ebc9ca": {
       "attrs": {
        "height": 0.4,
        "width": 0.8,
        "x": 0.1,
        "y": 0.5
       },
       "content": {
        "cell": "94aaefd8-aab9-4c42-acb2-941a64967264",
        "part": "whole"
       },
       "id": "558f6345-14cb-4521-9730-eef3c0ebc9ca"
      },
      "7ee05790-958f-4c12-aa1c-777e4163b86e": {
       "attrs": {
        "height": 0.4,
        "width": 0.8,
        "x": 0.1,
        "y": 0.5
       },
       "content": {
        "cell": "a32bed8e-6037-4c04-bcda-421832d9dc56",
        "part": "whole"
       },
       "id": "7ee05790-958f-4c12-aa1c-777e4163b86e"
      },
      "ac119c18-2ded-42e9-be27-af8c465be319": {
       "attrs": {
        "height": 0.4,
        "width": 0.8,
        "x": 0.1,
        "y": 0.5
       },
       "content": {
        "cell": "2213bd0e-a129-43c6-9a49-7cad724ac2b4",
        "part": "whole"
       },
       "id": "ac119c18-2ded-42e9-be27-af8c465be319"
      },
      "d2720b60-81f1-4455-a5f9-846eac423dfe": {
       "attrs": {
        "height": 0.8,
        "width": 0.8,
        "x": 0.1,
        "y": 0.1
       },
       "content": {
        "cell": "373921a8-9ede-4197-8cee-b82437f5aa64",
        "part": "whole"
       },
       "id": "d2720b60-81f1-4455-a5f9-846eac423dfe"
      }
     }
    },
    "dda4eda5-514d-4280-a559-bd74c8c104c3": {
     "id": "dda4eda5-514d-4280-a559-bd74c8c104c3",
     "prev": "bed18a91-f54c-4106-9447-9dc97d33ace4",
     "regions": {
      "5d7b4cc1-7f00-4e56-98f8-63505e3c232d": {
       "attrs": {
        "height": 0.4,
        "width": 0.8,
        "x": 0.1,
        "y": 0.5
       },
       "content": {
        "cell": "265acf8c-7e77-4dc8-8dc2-3b41be08da83",
        "part": "whole"
       },
       "id": "5d7b4cc1-7f00-4e56-98f8-63505e3c232d"
      },
      "88d6daf1-b76a-4514-aae4-cb188ae70178": {
       "attrs": {
        "height": 0.4,
        "width": 0.8,
        "x": 0.1,
        "y": 0.5
       },
       "content": {
        "cell": "46839b0a-7318-49c4-ba0a-c7990ba40c4f",
        "part": "whole"
       },
       "id": "88d6daf1-b76a-4514-aae4-cb188ae70178"
      },
      "c1f03cf3-d740-44e7-b66c-1bb01c6f957f": {
       "attrs": {
        "height": 0.8,
        "width": 0.8,
        "x": 0.1,
        "y": 0.1
       },
       "content": {
        "cell": "1b36334e-b088-48a5-9f79-28e8f4c7731d",
        "part": "whole"
       },
       "id": "c1f03cf3-d740-44e7-b66c-1bb01c6f957f"
      }
     }
    },
    "e2348bdb-3ba2-45f4-ad55-415ed9ff5540": {
     "id": "e2348bdb-3ba2-45f4-ad55-415ed9ff5540",
     "prev": "3f2767d4-1685-48e2-9396-efb6cbbc61dc",
     "regions": {
      "26bc2feb-d03f-4ce7-a56c-b468559beb28": {
       "attrs": {
        "height": 0.4,
        "width": 0.8,
        "x": 0.1,
        "y": 0.5
       },
       "content": {
        "cell": "01c097a1-b040-463f-ad8a-e9ff3617606d",
        "part": "whole"
       },
       "id": "26bc2feb-d03f-4ce7-a56c-b468559beb28"
      },
      "78d57727-7104-482f-a33a-074e9c66acac": {
       "attrs": {
        "height": 0.4,
        "width": 0.8,
        "x": 0.1,
        "y": 0.5
       },
       "content": {
        "cell": "405a573a-b42f-4099-a9b9-d4004ffc1e6d",
        "part": "whole"
       },
       "id": "78d57727-7104-482f-a33a-074e9c66acac"
      },
      "797af71b-41d3-4c38-bf3b-8442c379594a": {
       "attrs": {
        "height": 0.4,
        "width": 0.8,
        "x": 0.1,
        "y": 0.5
       },
       "content": {
        "cell": "8586e12f-9d8f-48f5-9dab-8485f02c37ba",
        "part": "whole"
       },
       "id": "797af71b-41d3-4c38-bf3b-8442c379594a"
      },
      "bf310390-8a94-4f60-94dd-77996c2a5100": {
       "attrs": {
        "height": 0.8,
        "width": 0.8,
        "x": 0.1,
        "y": 0.1
       },
       "content": {
        "cell": "9aeba9ea-b9b8-4713-a361-8b8799bcd827",
        "part": "whole"
       },
       "id": "bf310390-8a94-4f60-94dd-77996c2a5100"
      }
     }
    },
    "e66ce0b2-0da8-4e70-b485-bc633ae610b1": {
     "id": "e66ce0b2-0da8-4e70-b485-bc633ae610b1",
     "prev": "809c5d54-cb2b-4ee6-b489-5be655e7f76a",
     "regions": {
      "371d8de5-99ac-46ff-afe4-d7b84f3cc073": {
       "attrs": {
        "height": 0.4,
        "width": 0.8,
        "x": 0.1,
        "y": 0.5
       },
       "content": {
        "cell": "c2cfcf5d-ea69-412f-aff1-bab5e240021f",
        "part": "whole"
       },
       "id": "371d8de5-99ac-46ff-afe4-d7b84f3cc073"
      },
      "4a45f51a-7f93-4ab7-8593-839253f38797": {
       "attrs": {
        "height": 0.4,
        "width": 0.8,
        "x": 0.1,
        "y": 0.5
       },
       "content": {
        "cell": "5347e33d-9387-4805-9422-e670473079a9",
        "part": "whole"
       },
       "id": "4a45f51a-7f93-4ab7-8593-839253f38797"
      },
      "4b5a3b9c-10cb-4fb2-9309-6fde835e50e1": {
       "attrs": {
        "height": 0.8,
        "width": 0.8,
        "x": 0.1,
        "y": 0.1
       },
       "content": {
        "cell": "30022299-75c8-4706-b099-46ecbbd14db4",
        "part": "whole"
       },
       "id": "4b5a3b9c-10cb-4fb2-9309-6fde835e50e1"
      }
     }
    },
    "ef8678ac-0540-4f50-a0b0-d0896fb4b534": {
     "id": "ef8678ac-0540-4f50-a0b0-d0896fb4b534",
     "prev": "66da7c99-5473-4fde-abc5-14ff1f24944c",
     "regions": {
      "6dc08ff2-77cc-4e7b-a9fb-9fdfb46e88a7": {
       "attrs": {
        "height": 0.8,
        "width": 0.8,
        "x": 0.1,
        "y": 0.1
       },
       "content": {
        "cell": "679a49fa-4450-4ac5-a09b-4c26467bb0cf",
        "part": "whole"
       },
       "id": "6dc08ff2-77cc-4e7b-a9fb-9fdfb46e88a7"
      }
     }
    },
    "fa8362df-d0d0-4967-b2ce-0bc24b041a7b": {
     "id": "fa8362df-d0d0-4967-b2ce-0bc24b041a7b",
     "prev": "c4d2da00-bd89-4407-8579-aa26076c58f0",
     "regions": {
      "353d7ed9-0403-48a9-87d9-97ff19fbe977": {
       "attrs": {
        "height": 0.4,
        "width": 0.8,
        "x": 0.1,
        "y": 0.5
       },
       "content": {
        "cell": "c03609c2-22d7-453c-87df-4a4822599bfa",
        "part": "whole"
       },
       "id": "353d7ed9-0403-48a9-87d9-97ff19fbe977"
      },
      "4f763f24-d210-441b-a0fa-d293306ce7a7": {
       "attrs": {
        "height": 0.8,
        "width": 0.8,
        "x": 0.1,
        "y": 0.1
       },
       "content": {
        "cell": "a113b645-8c8d-4a1d-9c6f-eaf5287c3b60",
        "part": "whole"
       },
       "id": "4f763f24-d210-441b-a0fa-d293306ce7a7"
      },
      "f210b6c0-c327-42ca-bd33-e7393490769b": {
       "attrs": {
        "height": 0.4,
        "width": 0.8,
        "x": 0.1,
        "y": 0.5
       },
       "content": {
        "cell": "c4d89d4b-4241-4506-84b0-aa70f30d974a",
        "part": "whole"
       },
       "id": "f210b6c0-c327-42ca-bd33-e7393490769b"
      },
      "fc00f419-018b-4dd1-b15d-fd5800a850aa": {
       "attrs": {
        "height": 0.4,
        "width": 0.8,
        "x": 0.1,
        "y": 0.5
       },
       "content": {
        "cell": "6ae7fdb2-21e4-4be3-afc5-005b6a0040e8",
        "part": "whole"
       },
       "id": "fc00f419-018b-4dd1-b15d-fd5800a850aa"
      }
     }
    },
    "fe3da8de-836b-4889-a4ab-629b26217b67": {
     "id": "fe3da8de-836b-4889-a4ab-629b26217b67",
     "prev": "77c56d86-ac62-441a-b637-c28c416c0f3b",
     "regions": {
      "0f12d54b-4c00-4957-a24a-ea9318feed8b": {
       "attrs": {
        "height": 0.4,
        "width": 0.8,
        "x": 0.1,
        "y": 0.5
       },
       "content": {
        "cell": "571fc88a-3513-4b40-8787-16ab28050fbf",
        "part": "whole"
       },
       "id": "0f12d54b-4c00-4957-a24a-ea9318feed8b"
      },
      "86dff081-6b80-4df6-8ba1-745929dcff74": {
       "attrs": {
        "height": 0.8,
        "width": 0.8,
        "x": 0.1,
        "y": 0.1
       },
       "content": {
        "cell": "b4670e0f-49da-48a8-bc82-640a954d2f54",
        "part": "whole"
       },
       "id": "86dff081-6b80-4df6-8ba1-745929dcff74"
      }
     }
    }
   },
   "themes": {
    "default": "494ee13b-4963-4ee7-9c53-3d837a60e208",
    "theme": {}
   }
  },
  "presentation_info": {
   "pi_author": "Paul Ganssle",
   "pi_title": "variants"
  }
 },
 "nbformat": 4,
 "nbformat_minor": 1
}
